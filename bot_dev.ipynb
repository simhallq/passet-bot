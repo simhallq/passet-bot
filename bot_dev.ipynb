{
 "cells": [
  {
   "cell_type": "code",
   "execution_count": 1,
   "metadata": {},
   "outputs": [
    {
     "name": "stderr",
     "output_type": "stream",
     "text": [
      "/var/folders/g8/g2fn4cds1vj2yp9yzsd9158r0000gn/T/ipykernel_33374/4020497713.py:9: DeprecationWarning: executable_path has been deprecated, please pass in a Service object\n",
      "  driver = webdriver.Chrome(executable_path=driver_path, options=chrome_options)\n"
     ]
    }
   ],
   "source": [
    "import time\n",
    "from selenium import webdriver\n",
    "from selenium.webdriver.chrome.options import Options\n",
    "chrome_options = Options()\n",
    "#chrome_options.add_argument(\"--headless\")\n",
    "\n",
    "driver_path = '/Users/simon/Downloads/chromedriver 3'\n",
    "\n",
    "driver = webdriver.Chrome(executable_path=driver_path, options=chrome_options)\n"
   ]
  },
  {
   "cell_type": "code",
   "execution_count": 9,
   "metadata": {},
   "outputs": [],
   "source": [
    "driver.delete_all_cookies()\n",
    "driver.get('https://bokapass.nemoq.se/Booking/Booking/Index/uppsala')\n",
    "time.sleep(5)"
   ]
  },
  {
   "cell_type": "code",
   "execution_count": null,
   "metadata": {},
   "outputs": [],
   "source": []
  },
  {
   "cell_type": "code",
   "execution_count": 10,
   "metadata": {},
   "outputs": [
    {
     "name": "stderr",
     "output_type": "stream",
     "text": [
      "/var/folders/g8/g2fn4cds1vj2yp9yzsd9158r0000gn/T/ipykernel_33374/4227319186.py:3: DeprecationWarning: find_element_by_* commands are deprecated. Please use find_element() instead\n",
      "  driver.find_element_by_name('StartNextButton').click()\n",
      "/var/folders/g8/g2fn4cds1vj2yp9yzsd9158r0000gn/T/ipykernel_33374/4227319186.py:6: DeprecationWarning: find_element_by_* commands are deprecated. Please use find_element() instead\n",
      "  driver.find_element_by_xpath('//*[@id=\"AcceptInformationStorage\"]').click()\n",
      "/var/folders/g8/g2fn4cds1vj2yp9yzsd9158r0000gn/T/ipykernel_33374/4227319186.py:8: DeprecationWarning: find_element_by_* commands are deprecated. Please use find_element() instead\n",
      "  driver.find_element_by_xpath('//*[@id=\"Main\"]/form/div[2]/input').click()\n"
     ]
    }
   ],
   "source": [
    "#click on \"Boka tid\"\n",
    "#driver.find_element_by_xpath('//*[@id=\"Main\"]/div[2]/div[1]/div/form/div[2]/input').click()\n",
    "driver.find_element_by_name('StartNextButton').click()\n",
    "time.sleep(2)\n",
    "#click accept conditions \n",
    "driver.find_element_by_xpath('//*[@id=\"AcceptInformationStorage\"]').click()\n",
    "#click \"nästa steg\"\n",
    "driver.find_element_by_xpath('//*[@id=\"Main\"]/form/div[2]/input').click()\n",
    "time.sleep(2)"
   ]
  },
  {
   "cell_type": "code",
   "execution_count": 11,
   "metadata": {},
   "outputs": [
    {
     "name": "stderr",
     "output_type": "stream",
     "text": [
      "/var/folders/g8/g2fn4cds1vj2yp9yzsd9158r0000gn/T/ipykernel_33374/3767439907.py:2: DeprecationWarning: find_element_by_* commands are deprecated. Please use find_element() instead\n",
      "  driver.find_element_by_xpath('//*[@id=\"ServiceCategoryCustomers_0__ServiceCategoryId\"]').click()\n",
      "/var/folders/g8/g2fn4cds1vj2yp9yzsd9158r0000gn/T/ipykernel_33374/3767439907.py:4: DeprecationWarning: find_element_by_* commands are deprecated. Please use find_element() instead\n",
      "  driver.find_element_by_name(\"Next\").click()\n"
     ]
    }
   ],
   "source": [
    "#click \"jag bor i sverige\"\n",
    "driver.find_element_by_xpath('//*[@id=\"ServiceCategoryCustomers_0__ServiceCategoryId\"]').click()\n",
    "#click \"nästa steg\"\n",
    "driver.find_element_by_name(\"Next\").click()"
   ]
  },
  {
   "cell_type": "code",
   "execution_count": 12,
   "metadata": {},
   "outputs": [
    {
     "name": "stderr",
     "output_type": "stream",
     "text": [
      "/var/folders/g8/g2fn4cds1vj2yp9yzsd9158r0000gn/T/ipykernel_33374/1889584326.py:2: DeprecationWarning: find_element_by_* commands are deprecated. Please use find_element() instead\n",
      "  driver.find_element_by_xpath('//*[@id=\"Main\"]/form[1]/div/div[6]/div/input[2]').click()\n",
      "/var/folders/g8/g2fn4cds1vj2yp9yzsd9158r0000gn/T/ipykernel_33374/1889584326.py:5: DeprecationWarning: find_element_by_* commands are deprecated. Please use find_element() instead\n",
      "  available_date=driver.find_element_by_xpath('//*[@id=\"dateText\"]').text.lower()\n",
      "/var/folders/g8/g2fn4cds1vj2yp9yzsd9158r0000gn/T/ipykernel_33374/1889584326.py:15: DeprecationWarning: find_element_by_* commands are deprecated. Please use find_element() instead\n",
      "  driver.find_element_by_css_selector(\"div[class='pointer timecell text-center ']\").click()\n",
      "/var/folders/g8/g2fn4cds1vj2yp9yzsd9158r0000gn/T/ipykernel_33374/1889584326.py:17: DeprecationWarning: find_element_by_* commands are deprecated. Please use find_element() instead\n",
      "  driver.find_element_by_name(\"Next\").click()\n"
     ]
    },
    {
     "name": "stdout",
     "output_type": "stream",
     "text": [
      "['31', 'aug']\n",
      "date ok\n"
     ]
    }
   ],
   "source": [
    "#click \"första lediga tid\"\n",
    "driver.find_element_by_xpath('//*[@id=\"Main\"]/form[1]/div/div[6]/div/input[2]').click()\n",
    "time.sleep(5)\n",
    "\n",
    "available_date=driver.find_element_by_xpath('//*[@id=\"dateText\"]').text.lower()\n",
    "acceptable_dates=['apr','sep','aug','maj']\n",
    "# get both month and date\n",
    "date,month=available_date.split(' ')\n",
    "#print(month_date)\n",
    "# check date\n",
    "\n",
    "if any(date for date in acceptable_dates if date in available_date):\n",
    "    print('date ok')\n",
    "    #find timeslot\n",
    "    driver.find_element_by_css_selector(\"div[class='pointer timecell text-center ']\").click()\n",
    "    #click \"nästa steg\"\n",
    "    driver.find_element_by_name(\"Next\").click()\n"
   ]
  },
  {
   "cell_type": "code",
   "execution_count": 72,
   "metadata": {},
   "outputs": [
    {
     "name": "stdout",
     "output_type": "stream",
     "text": [
      "Ange kontaktinformation och bocka i kryssrutan för minst en meddelandetyp för bekräftelse och påminnelse.\n",
      "Ange kontaktinformation och bocka i kryssrutan för minst en meddelandetyp för bekräftelse och påminnelse.\n"
     ]
    },
    {
     "name": "stderr",
     "output_type": "stream",
     "text": [
      "/var/folders/g8/g2fn4cds1vj2yp9yzsd9158r0000gn/T/ipykernel_31996/3254160957.py:2: DeprecationWarning: find_element_by_* commands are deprecated. Please use find_element() instead\n",
      "  print(driver.find_element_by_class_name(\"validation-summary-errors\").text)\n"
     ]
    }
   ],
   "source": [
    "#<div class=\"validation-summary-errors alert alert-error\"><ul><li>Tiden du valde är inte tillgänglig. Var god välj en ny tid.</li>\n",
    "print(driver.find_element_by_class_name(\"validation-summary-errors\").text)"
   ]
  },
  {
   "cell_type": "code",
   "execution_count": 69,
   "metadata": {},
   "outputs": [
    {
     "name": "stderr",
     "output_type": "stream",
     "text": [
      "/var/folders/g8/g2fn4cds1vj2yp9yzsd9158r0000gn/T/ipykernel_31996/1411844093.py:2: DeprecationWarning: find_element_by_* commands are deprecated. Please use find_element() instead\n",
      "  driver.find_element_by_xpath('//*[@id=\"Customers_0__BookingFieldValues_0__Value\"]').send_keys('Simon')\n",
      "/var/folders/g8/g2fn4cds1vj2yp9yzsd9158r0000gn/T/ipykernel_31996/1411844093.py:3: DeprecationWarning: find_element_by_* commands are deprecated. Please use find_element() instead\n",
      "  driver.find_element_by_xpath('//*[@id=\"Customers_0__BookingFieldValues_1__Value\"]').send_keys('Hällqvist')\n",
      "/var/folders/g8/g2fn4cds1vj2yp9yzsd9158r0000gn/T/ipykernel_31996/1411844093.py:5: DeprecationWarning: find_element_by_* commands are deprecated. Please use find_element() instead\n",
      "  driver.find_element_by_xpath('//*[@id=\"Customers_0__Services_0__IsSelected\"]').click()\n",
      "/var/folders/g8/g2fn4cds1vj2yp9yzsd9158r0000gn/T/ipykernel_31996/1411844093.py:7: DeprecationWarning: find_element_by_* commands are deprecated. Please use find_element() instead\n",
      "  driver.find_element_by_name(\"Next\").click()\n"
     ]
    }
   ],
   "source": [
    "#enter name\n",
    "driver.find_element_by_xpath('//*[@id=\"Customers_0__BookingFieldValues_0__Value\"]').send_keys('Simon')\n",
    "driver.find_element_by_xpath('//*[@id=\"Customers_0__BookingFieldValues_1__Value\"]').send_keys('Hällqvist')\n",
    "#click \"Pass\"\n",
    "driver.find_element_by_xpath('//*[@id=\"Customers_0__Services_0__IsSelected\"]').click()\n",
    "#click \"nästa steg\"\n",
    "driver.find_element_by_name(\"Next\").click()"
   ]
  },
  {
   "cell_type": "code",
   "execution_count": 70,
   "metadata": {},
   "outputs": [
    {
     "name": "stderr",
     "output_type": "stream",
     "text": [
      "/var/folders/g8/g2fn4cds1vj2yp9yzsd9158r0000gn/T/ipykernel_31996/3107521433.py:2: DeprecationWarning: find_element_by_* commands are deprecated. Please use find_element() instead\n",
      "  driver.find_element_by_name(\"Next\").click()\n"
     ]
    }
   ],
   "source": [
    "#click \"nästa steg\"\n",
    "driver.find_element_by_name(\"Next\").click()"
   ]
  },
  {
   "cell_type": "code",
   "execution_count": 50,
   "metadata": {},
   "outputs": [
    {
     "name": "stderr",
     "output_type": "stream",
     "text": [
      "/var/folders/g8/g2fn4cds1vj2yp9yzsd9158r0000gn/T/ipykernel_31996/3906518000.py:2: DeprecationWarning: find_element_by_* commands are deprecated. Please use find_element() instead\n",
      "  driver.find_element_by_name(\"Next\").click()\n"
     ]
    }
   ],
   "source": []
  },
  {
   "cell_type": "code",
   "execution_count": 71,
   "metadata": {},
   "outputs": [
    {
     "name": "stderr",
     "output_type": "stream",
     "text": [
      "/var/folders/g8/g2fn4cds1vj2yp9yzsd9158r0000gn/T/ipykernel_31996/129457780.py:2: DeprecationWarning: find_element_by_* commands are deprecated. Please use find_element() instead\n",
      "  driver.find_element_by_id('EmailAddress').send_keys('hallqvist.simon@gmail.com')\n",
      "/var/folders/g8/g2fn4cds1vj2yp9yzsd9158r0000gn/T/ipykernel_31996/129457780.py:3: DeprecationWarning: find_element_by_* commands are deprecated. Please use find_element() instead\n",
      "  driver.find_element_by_id('ConfirmEmailAddress').send_keys('hallqvist.simon@gmail.com')\n",
      "/var/folders/g8/g2fn4cds1vj2yp9yzsd9158r0000gn/T/ipykernel_31996/129457780.py:4: DeprecationWarning: find_element_by_* commands are deprecated. Please use find_element() instead\n",
      "  driver.find_element_by_id('PhoneNumber').send_keys('0739609843')\n",
      "/var/folders/g8/g2fn4cds1vj2yp9yzsd9158r0000gn/T/ipykernel_31996/129457780.py:5: DeprecationWarning: find_element_by_* commands are deprecated. Please use find_element() instead\n",
      "  driver.find_element_by_id('ConfirmPhoneNumber').send_keys('0739609843')\n",
      "/var/folders/g8/g2fn4cds1vj2yp9yzsd9158r0000gn/T/ipykernel_31996/129457780.py:7: DeprecationWarning: find_element_by_* commands are deprecated. Please use find_element() instead\n",
      "  driver.find_element_by_name(\"Next\").click()\n"
     ]
    }
   ],
   "source": [
    "#enter email and phone number\n",
    "driver.find_element_by_id('EmailAddress').send_keys('hallqvist.simon@gmail.com')\n",
    "driver.find_element_by_id('ConfirmEmailAddress').send_keys('hallqvist.simon@gmail.com')\n",
    "driver.find_element_by_id('PhoneNumber').send_keys('0739609843')\n",
    "driver.find_element_by_id('ConfirmPhoneNumber').send_keys('0739609843')\n"
   ]
  },
  {
   "cell_type": "code",
   "execution_count": 73,
   "metadata": {},
   "outputs": [
    {
     "name": "stderr",
     "output_type": "stream",
     "text": [
      "/var/folders/g8/g2fn4cds1vj2yp9yzsd9158r0000gn/T/ipykernel_31996/3305582696.py:2: DeprecationWarning: find_element_by_* commands are deprecated. Please use find_element() instead\n",
      "  driver.find_element_by_xpath('//*[@id=\"SelectedContacts_1__IsSelected\"]').click()\n",
      "/var/folders/g8/g2fn4cds1vj2yp9yzsd9158r0000gn/T/ipykernel_31996/3305582696.py:3: DeprecationWarning: find_element_by_* commands are deprecated. Please use find_element() instead\n",
      "  driver.find_element_by_xpath('//*[@id=\"SelectedContacts_3__IsSelected\"]').click()\n",
      "/var/folders/g8/g2fn4cds1vj2yp9yzsd9158r0000gn/T/ipykernel_31996/3305582696.py:6: DeprecationWarning: find_element_by_* commands are deprecated. Please use find_element() instead\n",
      "  driver.find_element_by_name(\"Next\").click()\n"
     ]
    }
   ],
   "source": [
    "#click \"sms\"\n",
    "driver.find_element_by_xpath('//*[@id=\"SelectedContacts_1__IsSelected\"]').click()\n",
    "driver.find_element_by_xpath('//*[@id=\"SelectedContacts_3__IsSelected\"]').click()\n",
    "\n",
    "#click \"nästa steg\"\n",
    "driver.find_element_by_name(\"Next\").click()\n"
   ]
  },
  {
   "cell_type": "code",
   "execution_count": 74,
   "metadata": {},
   "outputs": [
    {
     "name": "stderr",
     "output_type": "stream",
     "text": [
      "/var/folders/g8/g2fn4cds1vj2yp9yzsd9158r0000gn/T/ipykernel_31996/532036742.py:2: DeprecationWarning: find_element_by_* commands are deprecated. Please use find_element() instead\n",
      "  driver.find_element_by_name(\"Next\").click()\n"
     ]
    }
   ],
   "source": [
    "#click to confirm booking\n",
    "driver.find_element_by_name(\"Next\").click()"
   ]
  },
  {
   "cell_type": "code",
   "execution_count": null,
   "metadata": {},
   "outputs": [],
   "source": [
    "#possibly clear data https://www.browserstack.com/guide/how-to-handle-cookies-in-selenium\n",
    "#?driver.delete_all_cookies()\n"
   ]
  }
 ],
 "metadata": {
  "interpreter": {
   "hash": "a5a1c9266df5e6796fcebd59620e183278e3ee39fa7d03a7a3710a656789b2c5"
  },
  "kernelspec": {
   "display_name": "Python 3.8.11 ('target-screener')",
   "language": "python",
   "name": "python3"
  },
  "language_info": {
   "codemirror_mode": {
    "name": "ipython",
    "version": 3
   },
   "file_extension": ".py",
   "mimetype": "text/x-python",
   "name": "python",
   "nbconvert_exporter": "python",
   "pygments_lexer": "ipython3",
   "version": "3.8.11"
  },
  "orig_nbformat": 4
 },
 "nbformat": 4,
 "nbformat_minor": 2
}
